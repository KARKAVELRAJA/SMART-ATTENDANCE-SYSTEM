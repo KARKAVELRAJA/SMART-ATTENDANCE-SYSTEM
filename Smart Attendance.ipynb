{
 "cells": [
  {
   "cell_type": "markdown",
   "metadata": {},
   "source": [
    "# Smart Attendance"
   ]
  },
  {
   "cell_type": "code",
   "execution_count": 21,
   "metadata": {},
   "outputs": [],
   "source": [
    "# Importing necessary Libraries\n",
    "\n",
    "import cv2\n",
    "import numpy as np\n",
    "import face_recognition\n",
    "import os\n",
    "from datetime import datetime"
   ]
  },
  {
   "cell_type": "code",
   "execution_count": 22,
   "metadata": {},
   "outputs": [
    {
     "name": "stdout",
     "output_type": "stream",
     "text": [
      "['Ms_Dhoni.jpg', 'Sachin_Tendulkar.jpg', 'Virat_Kohli.jpg']\n",
      "['Ms_Dhoni', 'Sachin_Tendulkar', 'Virat_Kohli']\n"
     ]
    }
   ],
   "source": [
    "# Accessing all the images and their names\n",
    "\n",
    "path       = r\"C:\\Users\\Admin\\Desktop\\Artificial Intelligence\\image_dataset\"\n",
    "images     = []\n",
    "classnames = []\n",
    "\n",
    "mylist = os.listdir(path)\n",
    "print(mylist)\n",
    "\n",
    "for cl in mylist:\n",
    "    curimg = cv2.imread(f\"{path}/{cl}\")\n",
    "    images.append(curimg)\n",
    "    classnames.append(os.path.splitext(cl)[0])\n",
    "print(classnames)"
   ]
  },
  {
   "cell_type": "code",
   "execution_count": 23,
   "metadata": {},
   "outputs": [],
   "source": [
    "# Encoding the images\n",
    "\n",
    "def findencodings(images):\n",
    "    encodelist = []\n",
    "    for img in images:\n",
    "        img    = cv2.cvtColor(img,cv2.COLOR_BGR2RGB)\n",
    "        encode = face_recognition.face_encodings(img)[0]\n",
    "        encodelist.append(encode)\n",
    "    return encodelist"
   ]
  },
  {
   "cell_type": "code",
   "execution_count": 24,
   "metadata": {},
   "outputs": [],
   "source": [
    "# Marking the Attendance\n",
    "\n",
    "def markattendance(name):\n",
    "    with open(r\"Attendance.csv\",\"r+\") as f:\n",
    "        mydatalist = f.readlines()\n",
    "        namelist   = []\n",
    "        for line in mydatalist:\n",
    "            entry  = line.split(\",\") \n",
    "            namelist.append(entry[0])\n",
    "        if name not in namelist:\n",
    "            now    = datetime.now()\n",
    "            dtstring = now.strftime('%H:%M:%S')\n",
    "            f.writelines(f'\\n{name},{dtstring}')"
   ]
  },
  {
   "cell_type": "code",
   "execution_count": 25,
   "metadata": {},
   "outputs": [
    {
     "name": "stdout",
     "output_type": "stream",
     "text": [
      "Encoding Completed\n"
     ]
    }
   ],
   "source": [
    "# Passing the images for encoding and completing the encoding process\n",
    "\n",
    "encodelistknown = findencodings(images)\n",
    "print(\"Encoding Completed\")"
   ]
  },
  {
   "cell_type": "code",
   "execution_count": 28,
   "metadata": {},
   "outputs": [
    {
     "name": "stdout",
     "output_type": "stream",
     "text": [
      "MS_DHONI\n",
      "MS_DHONI\n",
      "MS_DHONI\n",
      "MS_DHONI\n",
      "MS_DHONI\n",
      "MS_DHONI\n",
      "SACHIN_TENDULKAR\n",
      "SACHIN_TENDULKAR\n",
      "SACHIN_TENDULKAR\n",
      "SACHIN_TENDULKAR\n",
      "SACHIN_TENDULKAR\n",
      "VIRAT_KOHLI\n",
      "VIRAT_KOHLI\n",
      "VIRAT_KOHLI\n",
      "VIRAT_KOHLI\n"
     ]
    }
   ],
   "source": [
    "# Obtaining the real_time images and marking the attendance\n",
    "\n",
    "cap = cv2.VideoCapture(0)\n",
    "\n",
    "while True:\n",
    "    _,imgs = cap.read()\n",
    "    img    = cv2.resize(imgs,(0,0),None,0.25,0.25)\n",
    "    img    = cv2.cvtColor(img,cv2.COLOR_BGR2RGB)\n",
    "    \n",
    "    facescurframe   = face_recognition.face_locations(img)\n",
    "    encodescurframe = face_recognition.face_encodings(img,facescurframe)\n",
    "    \n",
    "    \n",
    "    for encodeface,faceloc in zip(encodescurframe,facescurframe):\n",
    "        matches    = face_recognition.compare_faces(encodelistknown,encodeface)\n",
    "        facedis    = face_recognition.face_distance(encodelistknown,encodeface)\n",
    "        matchIndex = np.argmin(facedis)\n",
    "\n",
    "        if matches[matchIndex]:\n",
    "            name = classnames[matchIndex].upper()\n",
    "            print(name)\n",
    "            y1,x2,y2,x1 = faceloc\n",
    "            y1,x2,y2,x1 = y1*4,x2*4,y2*4,x1*4\n",
    "            cv2.rectangle(imgs,(x1,y1),(x2,y2),(0,255,0),2)\n",
    "            cv2.rectangle(imgs,(x1,y2-35),(x2,y2),(0,255,0),cv2.FILLED)\n",
    "            cv2.putText(imgs,name,(x1+6,y2-6),cv2.FONT_HERSHEY_COMPLEX,1,(255,255,255),2)\n",
    "            markattendance(name)\n",
    "    \n",
    "    cv2.imshow(\"Frame\",imgs)\n",
    "    if cv2.waitKey(1) == ord(\"q\"):\n",
    "        break\n",
    "        \n",
    "cap.release()\n",
    "cv2.destroyAllWindows() "
   ]
  }
 ],
 "metadata": {
  "kernelspec": {
   "display_name": "Python 3",
   "language": "python",
   "name": "python3"
  },
  "language_info": {
   "codemirror_mode": {
    "name": "ipython",
    "version": 3
   },
   "file_extension": ".py",
   "mimetype": "text/x-python",
   "name": "python",
   "nbconvert_exporter": "python",
   "pygments_lexer": "ipython3",
   "version": "3.8.5"
  }
 },
 "nbformat": 4,
 "nbformat_minor": 4
}
